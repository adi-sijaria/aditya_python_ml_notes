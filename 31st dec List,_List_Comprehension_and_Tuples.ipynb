{
  "nbformat": 4,
  "nbformat_minor": 0,
  "metadata": {
    "colab": {
      "provenance": []
    },
    "kernelspec": {
      "name": "python3",
      "display_name": "Python 3"
    },
    "language_info": {
      "name": "python"
    }
  },
  "cells": [
    {
      "cell_type": "markdown",
      "source": [
        "    A.\tlist.append()\n",
        "    B.\tlist.clear()\n",
        "    C.\tList.copy()\t           \n",
        "    D.\tlist.count()\t       \n",
        "    E.\tlist.extend()\t  \n",
        "    F.\tlist.index()\n",
        "    G.\tlist.insert()\n",
        "    H.\tlist.pop()\n",
        "    I.\tlist.remove()\t  \n",
        "    J.\tlist.reverse()\t        \n",
        "    K.\tlist.sort()\t  "
      ],
      "metadata": {
        "id": "mI2gPZcbz4nF"
      }
    },
    {
      "cell_type": "markdown",
      "source": [
        "1. Check if a list contains an element\n",
        "        li = [1,2,3,'a','b','c']"
      ],
      "metadata": {
        "id": "6NNKwxtB0PmD"
      }
    },
    {
      "cell_type": "code",
      "execution_count": null,
      "metadata": {
        "colab": {
          "base_uri": "https://localhost:8080/"
        },
        "id": "9uOTIAj4zLfH",
        "outputId": "a52ee679-274e-4a52-9f2d-7198007dc00c"
      },
      "outputs": [
        {
          "output_type": "execute_result",
          "data": {
            "text/plain": [
              "True"
            ]
          },
          "metadata": {},
          "execution_count": 2
        }
      ],
      "source": [
        "li = [1,2,3,'a','b','c']\n",
        "'a' in li"
      ]
    },
    {
      "cell_type": "markdown",
      "source": [
        "How to iterate over 2+ lists at the same time\n",
        "\n",
        "    name = ['Snowball', 'Chewy', 'Bubbles', 'Gruff']\n",
        "    animal = ['Cat', 'Dog', 'Fish', 'Goat']\n",
        "    age = [1, 2, 2, 6]"
      ],
      "metadata": {
        "id": "jSOMQXhH0iyR"
      }
    },
    {
      "cell_type": "code",
      "source": [
        "name = ['Snowball', 'Chewy', 'Bubbles', 'Gruff']\n",
        "animal = ['Cat', 'Dog', 'Fish', 'Goat']\n",
        "age = [1, 2, 2, 6]\n",
        "\n",
        "list(zip(name, animal, age))"
      ],
      "metadata": {
        "colab": {
          "base_uri": "https://localhost:8080/"
        },
        "id": "m9eUd7mA0Xz1",
        "outputId": "365cfb24-3fea-4175-a1b3-dad2073350a6"
      },
      "execution_count": null,
      "outputs": [
        {
          "output_type": "execute_result",
          "data": {
            "text/plain": [
              "[('Snowball', 'Cat', 1),\n",
              " ('Chewy', 'Dog', 2),\n",
              " ('Bubbles', 'Fish', 2),\n",
              " ('Gruff', 'Goat', 6)]"
            ]
          },
          "metadata": {},
          "execution_count": 19
        }
      ]
    },
    {
      "cell_type": "code",
      "source": [
        "zip(name, animal, age)"
      ],
      "metadata": {
        "colab": {
          "base_uri": "https://localhost:8080/"
        },
        "id": "_yv2bp3502pP",
        "outputId": "aa1b3cf2-fa18-45c4-b020-c8fdd9a9b7ac"
      },
      "execution_count": null,
      "outputs": [
        {
          "output_type": "execute_result",
          "data": {
            "text/plain": [
              "<zip at 0x7b638171aec0>"
            ]
          },
          "metadata": {},
          "execution_count": 5
        }
      ]
    },
    {
      "cell_type": "code",
      "source": [
        "for i in list(zip(name, animal, age)):\n",
        "    print(i)"
      ],
      "metadata": {
        "colab": {
          "base_uri": "https://localhost:8080/"
        },
        "id": "b2MmT9G61GVf",
        "outputId": "63f61245-ece0-4734-fd29-92fc1b217004"
      },
      "execution_count": null,
      "outputs": [
        {
          "output_type": "stream",
          "name": "stdout",
          "text": [
            "('Snowball', 'Cat', 1)\n",
            "('Chewy', 'Dog', 2)\n",
            "('Bubbles', 'Fish', 2)\n",
            "('Gruff', 'Goat', 6)\n"
          ]
        }
      ]
    },
    {
      "cell_type": "code",
      "source": [
        "enumerate(name)"
      ],
      "metadata": {
        "colab": {
          "base_uri": "https://localhost:8080/"
        },
        "id": "ZF0HR1U71kre",
        "outputId": "b4b29c55-73b0-465c-dd87-9454be849412"
      },
      "execution_count": null,
      "outputs": [
        {
          "output_type": "execute_result",
          "data": {
            "text/plain": [
              "<enumerate at 0x7b6369ffa3c0>"
            ]
          },
          "metadata": {},
          "execution_count": 7
        }
      ]
    },
    {
      "cell_type": "code",
      "source": [
        "for i,_ in enumerate(name):\n",
        "    print(name[i], animal[i],age[i])"
      ],
      "metadata": {
        "colab": {
          "base_uri": "https://localhost:8080/"
        },
        "id": "qbOOZcwZ1RLD",
        "outputId": "7fa22d4f-6e90-4a25-cd68-7bd176067e82"
      },
      "execution_count": null,
      "outputs": [
        {
          "output_type": "stream",
          "name": "stdout",
          "text": [
            "Snowball Cat 1\n",
            "Chewy Dog 2\n",
            "Bubbles Fish 2\n",
            "Gruff Goat 6\n"
          ]
        }
      ]
    },
    {
      "cell_type": "code",
      "source": [
        "for i,_ in enumerate(name):\n",
        "    print(i)"
      ],
      "metadata": {
        "colab": {
          "base_uri": "https://localhost:8080/"
        },
        "id": "VJ4zO3YJ1rIH",
        "outputId": "763131a8-16f9-4577-c326-dac0e189b999"
      },
      "execution_count": null,
      "outputs": [
        {
          "output_type": "stream",
          "name": "stdout",
          "text": [
            "0\n",
            "1\n",
            "2\n",
            "3\n"
          ]
        }
      ]
    },
    {
      "cell_type": "code",
      "source": [
        "name, age = ['e',2]"
      ],
      "metadata": {
        "id": "H0trPHK-16wT"
      },
      "execution_count": null,
      "outputs": []
    },
    {
      "cell_type": "code",
      "source": [
        "name"
      ],
      "metadata": {
        "colab": {
          "base_uri": "https://localhost:8080/",
          "height": 35
        },
        "id": "c07Aa7aP2Pa6",
        "outputId": "4451ee6f-a334-4cad-e026-f99bc7b309e5"
      },
      "execution_count": null,
      "outputs": [
        {
          "output_type": "execute_result",
          "data": {
            "text/plain": [
              "'e'"
            ],
            "application/vnd.google.colaboratory.intrinsic+json": {
              "type": "string"
            }
          },
          "metadata": {},
          "execution_count": 16
        }
      ]
    },
    {
      "cell_type": "code",
      "source": [
        "age"
      ],
      "metadata": {
        "colab": {
          "base_uri": "https://localhost:8080/"
        },
        "id": "S0o2STpk2TGG",
        "outputId": "0eb5b6e5-33f6-4675-ced9-57281a152fb0"
      },
      "execution_count": null,
      "outputs": [
        {
          "output_type": "execute_result",
          "data": {
            "text/plain": [
              "2"
            ]
          },
          "metadata": {},
          "execution_count": 17
        }
      ]
    },
    {
      "cell_type": "markdown",
      "source": [
        "Swap Two Elements in a List\n",
        "\n",
        "    List = [23, 65, 19, 90]"
      ],
      "metadata": {
        "id": "MQl_RTpC2xhF"
      }
    },
    {
      "cell_type": "code",
      "source": [
        "my_list = [23, 65, 19, 90]\n",
        "\n",
        "my_list[0], my_list[2] = my_list[2], my_list[0]\n",
        "my_list"
      ],
      "metadata": {
        "colab": {
          "base_uri": "https://localhost:8080/"
        },
        "id": "Yvov2Y1_2UZI",
        "outputId": "c420e54f-739e-4745-e38c-ab4d758d49b5"
      },
      "execution_count": null,
      "outputs": [
        {
          "output_type": "execute_result",
          "data": {
            "text/plain": [
              "[19, 65, 23, 90]"
            ]
          },
          "metadata": {},
          "execution_count": 23
        }
      ]
    },
    {
      "cell_type": "markdown",
      "source": [
        "Python program to find unique numbers in a given list.\n",
        "\n",
        "    l1 =[1, 9, 1, 6, 3, 4, 5, 1, 1, 2, 5, 6, 7, 8, 9,8,1,2]"
      ],
      "metadata": {
        "id": "9uCs1rMd3rJD"
      }
    },
    {
      "cell_type": "code",
      "source": [
        "l1 = [1, 9, 1, 6, 3, 4, 5, 1, 1, 2, 5, 6, 7, 8, 9,8,1,2]\n",
        "\n",
        "u = []\n",
        "for i in l1:\n",
        "    if i not in u:\n",
        "        u.append(i)\n",
        "u"
      ],
      "metadata": {
        "colab": {
          "base_uri": "https://localhost:8080/"
        },
        "id": "a_JMok9I3PKM",
        "outputId": "5e6659d5-4ab3-4ea7-8aad-1ac62fd7a472"
      },
      "execution_count": null,
      "outputs": [
        {
          "output_type": "execute_result",
          "data": {
            "text/plain": [
              "[1, 9, 6, 3, 4, 5, 2, 7, 8]"
            ]
          },
          "metadata": {},
          "execution_count": 69
        }
      ]
    },
    {
      "cell_type": "code",
      "source": [
        "set(l1)"
      ],
      "metadata": {
        "colab": {
          "base_uri": "https://localhost:8080/"
        },
        "id": "XpNdXXqc4D3t",
        "outputId": "309fbd85-067e-4b5c-d16f-3a05a215ca89"
      },
      "execution_count": null,
      "outputs": [
        {
          "output_type": "execute_result",
          "data": {
            "text/plain": [
              "{1, 2, 3, 4, 5, 6, 7, 8, 9}"
            ]
          },
          "metadata": {},
          "execution_count": 25
        }
      ]
    },
    {
      "cell_type": "code",
      "source": [
        "[i]"
      ],
      "metadata": {
        "id": "B1R4n8dJItY6"
      },
      "execution_count": null,
      "outputs": []
    },
    {
      "cell_type": "markdown",
      "source": [
        "Python program to create a list of 15 random integers."
      ],
      "metadata": {
        "id": "nYhsfCDk4RUZ"
      }
    },
    {
      "cell_type": "code",
      "source": [
        "import random\n",
        "\n",
        "\n",
        "l1 = []\n",
        "for i in range(1,15):\n",
        "    l1.append(random.randint(0,100))\n",
        "l1"
      ],
      "metadata": {
        "colab": {
          "base_uri": "https://localhost:8080/"
        },
        "id": "eEjL4iyR4MAW",
        "outputId": "7868618f-1590-47f8-be72-329525f70182"
      },
      "execution_count": null,
      "outputs": [
        {
          "output_type": "execute_result",
          "data": {
            "text/plain": [
              "[43, 11, 41, 27, 35, 78, 2, 80, 12, 38, 28, 92, 91, 100]"
            ]
          },
          "metadata": {},
          "execution_count": 72
        }
      ]
    },
    {
      "cell_type": "code",
      "source": [
        "[random.randint(0,100) for i in range(1,15)]"
      ],
      "metadata": {
        "colab": {
          "base_uri": "https://localhost:8080/"
        },
        "id": "Rh_XxDDRJO3M",
        "outputId": "24fa10f5-5fc0-4bca-a20d-05824cb3ec8e"
      },
      "execution_count": null,
      "outputs": [
        {
          "output_type": "execute_result",
          "data": {
            "text/plain": [
              "[82, 66, 48, 27, 14, 17, 35, 16, 38, 12, 76, 95, 37, 69]"
            ]
          },
          "metadata": {},
          "execution_count": 74
        }
      ]
    },
    {
      "cell_type": "code",
      "source": [
        "random.randint(0,100)"
      ],
      "metadata": {
        "colab": {
          "base_uri": "https://localhost:8080/"
        },
        "id": "gv3sQDRq4Y9G",
        "outputId": "917899fd-0f6c-4d6e-d5fa-b841dcc7586a"
      },
      "execution_count": null,
      "outputs": [
        {
          "output_type": "execute_result",
          "data": {
            "text/plain": [
              "37"
            ]
          },
          "metadata": {},
          "execution_count": 28
        }
      ]
    },
    {
      "cell_type": "markdown",
      "source": [
        "Python program to find sum of all numbers in a list."
      ],
      "metadata": {
        "id": "jEj0f77m5NWG"
      }
    },
    {
      "cell_type": "code",
      "source": [
        "sum(l1)"
      ],
      "metadata": {
        "colab": {
          "base_uri": "https://localhost:8080/"
        },
        "id": "Yj-6VAdF4fr5",
        "outputId": "313fd79b-156b-4e65-d1f3-89c004916f43"
      },
      "execution_count": null,
      "outputs": [
        {
          "output_type": "execute_result",
          "data": {
            "text/plain": [
              "679"
            ]
          },
          "metadata": {},
          "execution_count": 30
        }
      ]
    },
    {
      "cell_type": "code",
      "source": [
        "s = 0\n",
        "for i in l1:\n",
        "    s += i\n",
        "\n",
        "s"
      ],
      "metadata": {
        "colab": {
          "base_uri": "https://localhost:8080/"
        },
        "id": "1QjMJiUh5PQz",
        "outputId": "16e0a18c-723f-418a-bb03-3049279f0f4c"
      },
      "execution_count": null,
      "outputs": [
        {
          "output_type": "execute_result",
          "data": {
            "text/plain": [
              "679"
            ]
          },
          "metadata": {},
          "execution_count": 31
        }
      ]
    },
    {
      "cell_type": "markdown",
      "source": [
        "Python program to remove all odd numbers from a list."
      ],
      "metadata": {
        "id": "StPxSqGK5ggV"
      }
    },
    {
      "cell_type": "code",
      "source": [
        "result = []\n",
        "for i in l1:\n",
        "    if i % 2==0:\n",
        "        result.append(i)\n",
        "result"
      ],
      "metadata": {
        "colab": {
          "base_uri": "https://localhost:8080/"
        },
        "id": "l2q3rYoL5a8q",
        "outputId": "8857a56a-7154-4cdd-d252-cb821b1e9ac4"
      },
      "execution_count": null,
      "outputs": [
        {
          "output_type": "execute_result",
          "data": {
            "text/plain": [
              "[78, 2, 80, 12, 38, 28, 92, 100]"
            ]
          },
          "metadata": {},
          "execution_count": 75
        }
      ]
    },
    {
      "cell_type": "code",
      "source": [
        "[i for i in l1 if i % 2 == 0]"
      ],
      "metadata": {
        "colab": {
          "base_uri": "https://localhost:8080/"
        },
        "id": "U_KnAKaKJfeZ",
        "outputId": "e8f3a2fa-707c-4ba1-eb1d-c2dc092aa555"
      },
      "execution_count": null,
      "outputs": [
        {
          "output_type": "execute_result",
          "data": {
            "text/plain": [
              "[78, 2, 80, 12, 38, 28, 92, 100]"
            ]
          },
          "metadata": {},
          "execution_count": 77
        }
      ]
    },
    {
      "cell_type": "markdown",
      "source": [
        "Python program to sort a list of strings on the number of alphabets in each word.  \n",
        "    words_list = ['apple', 'banana', 'pear', 'grape', 'kiwi']"
      ],
      "metadata": {
        "id": "S0hNjKwJ6E1S"
      }
    },
    {
      "cell_type": "code",
      "source": [
        "words_list = ['apple', 'banana', 'pear', 'grape', 'kiwi']\n",
        "\n",
        "sorted(words_list)"
      ],
      "metadata": {
        "colab": {
          "base_uri": "https://localhost:8080/"
        },
        "id": "6XQNpZV25ytz",
        "outputId": "7b4d82ea-5070-42b8-fd31-86143ac6cf5e"
      },
      "execution_count": null,
      "outputs": [
        {
          "output_type": "execute_result",
          "data": {
            "text/plain": [
              "['apple', 'banana', 'grape', 'kiwi', 'pear']"
            ]
          },
          "metadata": {},
          "execution_count": 45
        }
      ]
    },
    {
      "cell_type": "code",
      "source": [
        "words_list = ['apple', 'banana', 'pear', 'grape', 'kiwi']\n",
        "\n",
        "sorted(words_list, key = len)"
      ],
      "metadata": {
        "colab": {
          "base_uri": "https://localhost:8080/"
        },
        "id": "P6uJG6aN8b03",
        "outputId": "94f930f4-3699-413b-dcfa-98e9b53dc606"
      },
      "execution_count": null,
      "outputs": [
        {
          "output_type": "execute_result",
          "data": {
            "text/plain": [
              "['pear', 'kiwi', 'apple', 'grape', 'banana']"
            ]
          },
          "metadata": {},
          "execution_count": 47
        }
      ]
    },
    {
      "cell_type": "markdown",
      "source": [
        "Python program non-numeric items in a list in a separate list.\n",
        "\n",
        "    original_list = [1, 'apple', 3.14, 'banana', 'orange', 7, 'kiwi', 'grape', 9.8, 'pear', 'melon', 5, 'peach']\n",
        "    "
      ],
      "metadata": {
        "id": "tJ1MWa3n6jj4"
      }
    },
    {
      "cell_type": "code",
      "source": [
        "isinstance('apple',float)"
      ],
      "metadata": {
        "colab": {
          "base_uri": "https://localhost:8080/"
        },
        "id": "DmLfVcxG7CUC",
        "outputId": "ef242e05-d673-44ae-f38c-55521a5fa0c7"
      },
      "execution_count": null,
      "outputs": [
        {
          "output_type": "execute_result",
          "data": {
            "text/plain": [
              "False"
            ]
          },
          "metadata": {},
          "execution_count": 37
        }
      ]
    },
    {
      "cell_type": "code",
      "source": [
        "original_list = [1, 'apple', 3.14, 'banana', 'orange', 7, 'kiwi', 'grape', 9.8, 'pear', 'melon', 5, 'peach']\n",
        "result = []\n",
        "for i in original_list:\n",
        "    if not isinstance(i,(int, float)):\n",
        "        result.append(i)\n",
        "result"
      ],
      "metadata": {
        "colab": {
          "base_uri": "https://localhost:8080/"
        },
        "id": "hnnZW92G6Rmz",
        "outputId": "d866d409-ef6e-49c6-e8c3-8fc35c6b2daf"
      },
      "execution_count": null,
      "outputs": [
        {
          "output_type": "execute_result",
          "data": {
            "text/plain": [
              "['apple', 'banana', 'orange', 'kiwi', 'grape', 'pear', 'melon', 'peach']"
            ]
          },
          "metadata": {},
          "execution_count": 78
        }
      ]
    },
    {
      "cell_type": "code",
      "source": [
        "[i for i in original_list if not isinstance(i,(int, float))]"
      ],
      "metadata": {
        "colab": {
          "base_uri": "https://localhost:8080/"
        },
        "id": "mK7zn1UHJrEF",
        "outputId": "5ce5689c-1cab-4872-e492-d62b72e043ac"
      },
      "execution_count": null,
      "outputs": [
        {
          "output_type": "execute_result",
          "data": {
            "text/plain": [
              "['apple', 'banana', 'orange', 'kiwi', 'grape', 'pear', 'melon', 'peach']"
            ]
          },
          "metadata": {},
          "execution_count": 81
        }
      ]
    },
    {
      "cell_type": "markdown",
      "source": [
        "Python program to create a list of integers representing each character in a string\n",
        "\n",
        "    original_string = \"Hello, World! This is a big string with various characters.\""
      ],
      "metadata": {
        "id": "1YQrXNGC7gbo"
      }
    },
    {
      "cell_type": "code",
      "source": [
        "original_string = \"Hello, World! This is a big string with various characters.\""
      ],
      "metadata": {
        "id": "m68-botD7R0j"
      },
      "execution_count": null,
      "outputs": []
    },
    {
      "cell_type": "code",
      "source": [
        "ord('a')"
      ],
      "metadata": {
        "colab": {
          "base_uri": "https://localhost:8080/"
        },
        "id": "TyS60H9u7tVr",
        "outputId": "edd6528f-27f8-4237-f0ea-223ef500c6c6"
      },
      "execution_count": null,
      "outputs": [
        {
          "output_type": "execute_result",
          "data": {
            "text/plain": [
              "97"
            ]
          },
          "metadata": {},
          "execution_count": 83
        }
      ]
    },
    {
      "cell_type": "code",
      "source": [
        "result = []\n",
        "for i in original_string:\n",
        "    result.append(ord(i))\n",
        "result"
      ],
      "metadata": {
        "colab": {
          "base_uri": "https://localhost:8080/"
        },
        "id": "NcuPGjry7vBK",
        "outputId": "385ca884-8aca-4432-9b04-340c0653d232"
      },
      "execution_count": null,
      "outputs": [
        {
          "output_type": "execute_result",
          "data": {
            "text/plain": [
              "[72,\n",
              " 101,\n",
              " 108,\n",
              " 108,\n",
              " 111,\n",
              " 44,\n",
              " 32,\n",
              " 87,\n",
              " 111,\n",
              " 114,\n",
              " 108,\n",
              " 100,\n",
              " 33,\n",
              " 32,\n",
              " 84,\n",
              " 104,\n",
              " 105,\n",
              " 115,\n",
              " 32,\n",
              " 105,\n",
              " 115,\n",
              " 32,\n",
              " 97,\n",
              " 32,\n",
              " 98,\n",
              " 105,\n",
              " 103,\n",
              " 32,\n",
              " 115,\n",
              " 116,\n",
              " 114,\n",
              " 105,\n",
              " 110,\n",
              " 103,\n",
              " 32,\n",
              " 119,\n",
              " 105,\n",
              " 116,\n",
              " 104,\n",
              " 32,\n",
              " 118,\n",
              " 97,\n",
              " 114,\n",
              " 105,\n",
              " 111,\n",
              " 117,\n",
              " 115,\n",
              " 32,\n",
              " 99,\n",
              " 104,\n",
              " 97,\n",
              " 114,\n",
              " 97,\n",
              " 99,\n",
              " 116,\n",
              " 101,\n",
              " 114,\n",
              " 115,\n",
              " 46]"
            ]
          },
          "metadata": {},
          "execution_count": 84
        }
      ]
    },
    {
      "cell_type": "code",
      "source": [
        "[ord(i) for i in original_string]"
      ],
      "metadata": {
        "colab": {
          "base_uri": "https://localhost:8080/"
        },
        "id": "bQATESGbJ-ZT",
        "outputId": "df150670-6279-42bd-c0f3-0d30a81f0f4b"
      },
      "execution_count": null,
      "outputs": [
        {
          "output_type": "execute_result",
          "data": {
            "text/plain": [
              "[72,\n",
              " 101,\n",
              " 108,\n",
              " 108,\n",
              " 111,\n",
              " 44,\n",
              " 32,\n",
              " 87,\n",
              " 111,\n",
              " 114,\n",
              " 108,\n",
              " 100,\n",
              " 33,\n",
              " 32,\n",
              " 84,\n",
              " 104,\n",
              " 105,\n",
              " 115,\n",
              " 32,\n",
              " 105,\n",
              " 115,\n",
              " 32,\n",
              " 97,\n",
              " 32,\n",
              " 98,\n",
              " 105,\n",
              " 103,\n",
              " 32,\n",
              " 115,\n",
              " 116,\n",
              " 114,\n",
              " 105,\n",
              " 110,\n",
              " 103,\n",
              " 32,\n",
              " 119,\n",
              " 105,\n",
              " 116,\n",
              " 104,\n",
              " 32,\n",
              " 118,\n",
              " 97,\n",
              " 114,\n",
              " 105,\n",
              " 111,\n",
              " 117,\n",
              " 115,\n",
              " 32,\n",
              " 99,\n",
              " 104,\n",
              " 97,\n",
              " 114,\n",
              " 97,\n",
              " 99,\n",
              " 116,\n",
              " 101,\n",
              " 114,\n",
              " 115,\n",
              " 46]"
            ]
          },
          "metadata": {},
          "execution_count": 85
        }
      ]
    },
    {
      "cell_type": "markdown",
      "source": [
        "Python program to find numbers common in two lists.\n",
        "\n",
        "    list1 = [1, 2, 3, 4, 5]\n",
        "    list2 = [3, 4, 5, 6, 7]"
      ],
      "metadata": {
        "id": "Tki99d3c894R"
      }
    },
    {
      "cell_type": "code",
      "source": [
        "list1 = [1, 2, 3, 4, 5]\n",
        "list2 = [3, 4, 5, 6, 7]\n",
        "\n",
        "common = []\n",
        "for i in list1:\n",
        "    if i in list2:\n",
        "        common.append(i)\n",
        "\n",
        "common"
      ],
      "metadata": {
        "colab": {
          "base_uri": "https://localhost:8080/"
        },
        "id": "SSdV1fz58CsE",
        "outputId": "f9a0aeda-7b3f-46dd-bc00-cbe99ca939fc"
      },
      "execution_count": null,
      "outputs": [
        {
          "output_type": "execute_result",
          "data": {
            "text/plain": [
              "[3, 4, 5]"
            ]
          },
          "metadata": {},
          "execution_count": 87
        }
      ]
    },
    {
      "cell_type": "code",
      "source": [
        "[i for i in list1 if i in list2]"
      ],
      "metadata": {
        "colab": {
          "base_uri": "https://localhost:8080/"
        },
        "id": "Orxjq8sKKJhz",
        "outputId": "974515b9-ac88-4c63-8585-9a64d58d2d5d"
      },
      "execution_count": null,
      "outputs": [
        {
          "output_type": "execute_result",
          "data": {
            "text/plain": [
              "[3, 4, 5]"
            ]
          },
          "metadata": {},
          "execution_count": 88
        }
      ]
    },
    {
      "cell_type": "code",
      "source": [
        "set(list1).intersection(list2)"
      ],
      "metadata": {
        "colab": {
          "base_uri": "https://localhost:8080/"
        },
        "id": "aRylbFLs9TBq",
        "outputId": "53f1360a-935d-419d-e63c-51dc7f461094"
      },
      "execution_count": null,
      "outputs": [
        {
          "output_type": "execute_result",
          "data": {
            "text/plain": [
              "{3, 4, 5}"
            ]
          },
          "metadata": {},
          "execution_count": 50
        }
      ]
    },
    {
      "cell_type": "code",
      "source": [
        "r = []\n",
        "for i in list1:\n",
        "    for j in list2:\n",
        "        if i == j and i not in r:\n",
        "            r.append(i)"
      ],
      "metadata": {
        "id": "0F69xs659eoT"
      },
      "execution_count": null,
      "outputs": []
    },
    {
      "cell_type": "code",
      "source": [
        "r"
      ],
      "metadata": {
        "colab": {
          "base_uri": "https://localhost:8080/"
        },
        "id": "-cyeLN0e-jit",
        "outputId": "cb2d7a0f-32e7-4169-d892-ea327bb82b98"
      },
      "execution_count": null,
      "outputs": [
        {
          "output_type": "execute_result",
          "data": {
            "text/plain": [
              "[3, 4, 5]"
            ]
          },
          "metadata": {},
          "execution_count": 52
        }
      ]
    },
    {
      "cell_type": "markdown",
      "source": [
        "Problem Statement: Students Record Management\n",
        "\n",
        "You are tasked with creating a program to manage students' records in a school system. Implement a system that allows administrators to perform various operations on a list of student records, including adding new students, updating information, deleting students, and displaying the list of students.\n",
        "\n",
        "Your program should include the following functionalities using list functions and methods:\n",
        "\n",
        "    Add Students:\n",
        "        Allow administrators to add new students to the system. Each student record should contain their name, age, and grade. Store these records in a list.\n",
        "\n",
        "    Update Student Information:\n",
        "        Provide an option to update a student's information based on their name. Administrators should be able to update the age or grade of a student.\n",
        "\n",
        "    Delete Student Record:\n",
        "        Enable administrators to delete a student record based on the student's name.\n",
        "\n",
        "    Display Students Records:\n",
        "        Display the list of all student records with their names, ages, and grades.\n",
        "\n",
        "    Sort Students Records:\n",
        "        Implement a function to sort the student records alphabetically based on their names or based on their grades.\n",
        "\n",
        "    Search for a Student:\n",
        "        Implement a function to search for a student based on their name and display their information.\n",
        "\n",
        "Your program should showcase the usage of list functions such as append(), extend(), remove(), index(), sort(), pop(), count(), and other relevant list methods to accomplish the above functionalities.\n",
        "Example Usage:\n",
        "\n",
        "Your program should provide a menu-driven interface where administrators can select options like add, update, delete, display, sort, and search for students. It should interactively guide users through managing and manipulating the list of student records using various list functions and methods."
      ],
      "metadata": {
        "id": "nx-v81BG_t69"
      }
    },
    {
      "cell_type": "code",
      "source": [
        "n = []\n",
        "for i in range(1,11):\n",
        "    n.append(i)\n",
        "n"
      ],
      "metadata": {
        "colab": {
          "base_uri": "https://localhost:8080/"
        },
        "id": "hnwies6U-kke",
        "outputId": "d08f41b1-3b7c-40db-fbd7-4b610d960419"
      },
      "execution_count": null,
      "outputs": [
        {
          "output_type": "execute_result",
          "data": {
            "text/plain": [
              "[1, 2, 3, 4, 5, 6, 7, 8, 9, 10]"
            ]
          },
          "metadata": {},
          "execution_count": 53
        }
      ]
    },
    {
      "cell_type": "code",
      "source": [
        "m = [i for i in range(1,11)]\n",
        "m"
      ],
      "metadata": {
        "colab": {
          "base_uri": "https://localhost:8080/"
        },
        "id": "M3M_BzleEU9T",
        "outputId": "5e0def1a-b327-458b-801b-35f1566795a0"
      },
      "execution_count": null,
      "outputs": [
        {
          "output_type": "execute_result",
          "data": {
            "text/plain": [
              "[1, 2, 3, 4, 5, 6, 7, 8, 9, 10]"
            ]
          },
          "metadata": {},
          "execution_count": 55
        }
      ]
    },
    {
      "cell_type": "code",
      "source": [
        "n = []\n",
        "for i in range(1,21):\n",
        "    if i %2 == 0:\n",
        "        n.append(i)\n",
        "n\n",
        "\n"
      ],
      "metadata": {
        "colab": {
          "base_uri": "https://localhost:8080/"
        },
        "id": "qzRFsTWkEeNT",
        "outputId": "5d09dae6-a066-4200-d76b-3937318d19f5"
      },
      "execution_count": null,
      "outputs": [
        {
          "output_type": "execute_result",
          "data": {
            "text/plain": [
              "[2, 4, 6, 8, 10, 12, 14, 16, 18, 20]"
            ]
          },
          "metadata": {},
          "execution_count": 56
        }
      ]
    },
    {
      "cell_type": "code",
      "source": [
        "m = [ i for i in range(1,21) if i%2 ==0]\n",
        "m"
      ],
      "metadata": {
        "colab": {
          "base_uri": "https://localhost:8080/"
        },
        "id": "CHJSj-H-EzSZ",
        "outputId": "a9fe60f5-bae9-4df4-e625-a3e6f10091f0"
      },
      "execution_count": null,
      "outputs": [
        {
          "output_type": "execute_result",
          "data": {
            "text/plain": [
              "[2, 4, 6, 8, 10, 12, 14, 16, 18, 20]"
            ]
          },
          "metadata": {},
          "execution_count": 57
        }
      ]
    },
    {
      "cell_type": "markdown",
      "source": [
        "List contains square of all odd numbers from range 1 to 20"
      ],
      "metadata": {
        "id": "CWal--rEFGPY"
      }
    },
    {
      "cell_type": "code",
      "source": [
        "n = []\n",
        "for i in range(1,21):\n",
        "    if i %2 != 0:\n",
        "        n.append(i ** 2)\n",
        "n\n",
        "\n"
      ],
      "metadata": {
        "colab": {
          "base_uri": "https://localhost:8080/"
        },
        "id": "aTe1g2VvE9xd",
        "outputId": "e8c57256-9669-461a-a03b-b45ba46772d2"
      },
      "execution_count": null,
      "outputs": [
        {
          "output_type": "execute_result",
          "data": {
            "text/plain": [
              "[1, 9, 25, 49, 81, 121, 169, 225, 289, 361]"
            ]
          },
          "metadata": {},
          "execution_count": 58
        }
      ]
    },
    {
      "cell_type": "markdown",
      "source": [
        "if in case the value is not an even number print atext not even"
      ],
      "metadata": {
        "id": "WRWavqZLGKHx"
      }
    },
    {
      "cell_type": "code",
      "source": [
        "m = [i ** 2 if i %2 ==0 else 'Not Even' for i in range(1,21)]\n",
        "m"
      ],
      "metadata": {
        "colab": {
          "base_uri": "https://localhost:8080/"
        },
        "id": "jfGWZUHCFRLT",
        "outputId": "1e82d147-467c-4aa7-b70b-ac8bb02cb333"
      },
      "execution_count": null,
      "outputs": [
        {
          "output_type": "execute_result",
          "data": {
            "text/plain": [
              "['Not Even',\n",
              " 4,\n",
              " 'Not Even',\n",
              " 16,\n",
              " 'Not Even',\n",
              " 36,\n",
              " 'Not Even',\n",
              " 64,\n",
              " 'Not Even',\n",
              " 100,\n",
              " 'Not Even',\n",
              " 144,\n",
              " 'Not Even',\n",
              " 196,\n",
              " 'Not Even',\n",
              " 256,\n",
              " 'Not Even',\n",
              " 324,\n",
              " 'Not Even',\n",
              " 400]"
            ]
          },
          "metadata": {},
          "execution_count": 61
        }
      ]
    },
    {
      "cell_type": "code",
      "source": [
        "ages = [15, 30, 45, 80, 105, 20]\n",
        "r = []\n",
        "for age in ages:\n",
        "    if age >25:\n",
        "        if age > 60:\n",
        "            r.append((age,'Too old'))\n",
        "        else:\n",
        "            r.append((age,'Right age'))\n",
        "    else:\n",
        "        r.append((age,'Too young'))"
      ],
      "metadata": {
        "id": "bbakf1e7FcRs"
      },
      "execution_count": null,
      "outputs": []
    },
    {
      "cell_type": "code",
      "source": [
        "r"
      ],
      "metadata": {
        "colab": {
          "base_uri": "https://localhost:8080/"
        },
        "id": "WZKtU58mHyah",
        "outputId": "ba73d4cd-710a-4aaa-e249-7e6641c8b908"
      },
      "execution_count": null,
      "outputs": [
        {
          "output_type": "execute_result",
          "data": {
            "text/plain": [
              "[(15, 'Too young'),\n",
              " (30, 'Right age'),\n",
              " (45, 'Right age'),\n",
              " (80, 'Too old'),\n",
              " (105, 'Too old'),\n",
              " (20, 'Too young')]"
            ]
          },
          "metadata": {},
          "execution_count": 66
        }
      ]
    },
    {
      "cell_type": "code",
      "source": [
        "result = [(age, 'Too Old' if age > 60 else 'Right age' if age >25 else 'Too Young') for age in ages]\n",
        "result"
      ],
      "metadata": {
        "colab": {
          "base_uri": "https://localhost:8080/"
        },
        "id": "9r6Gb7JYH20C",
        "outputId": "c2430579-b361-494a-a86b-ead2d05b62b2"
      },
      "execution_count": null,
      "outputs": [
        {
          "output_type": "execute_result",
          "data": {
            "text/plain": [
              "[(15, 'Too Young'),\n",
              " (30, 'Right age'),\n",
              " (45, 'Right age'),\n",
              " (80, 'Too Old'),\n",
              " (105, 'Too Old'),\n",
              " (20, 'Too Young')]"
            ]
          },
          "metadata": {},
          "execution_count": 68
        }
      ]
    },
    {
      "cell_type": "code",
      "source": [
        "list1 = [1, 2, 3]\n",
        "list2 = [10, 20, 30]\n",
        "\n",
        "result = []\n",
        "for i in list1:\n",
        "    for j in list2:\n",
        "        result.append(i * j)\n",
        "result"
      ],
      "metadata": {
        "colab": {
          "base_uri": "https://localhost:8080/"
        },
        "id": "dD3gvJjyIaKZ",
        "outputId": "bc97b0e6-589c-4037-c4b0-af5009b597fc"
      },
      "execution_count": null,
      "outputs": [
        {
          "output_type": "execute_result",
          "data": {
            "text/plain": [
              "[10, 20, 30, 20, 40, 60, 30, 60, 90]"
            ]
          },
          "metadata": {},
          "execution_count": 90
        }
      ]
    },
    {
      "cell_type": "code",
      "source": [
        "result = [i * j for i in list1 for j in list2]\n",
        "result"
      ],
      "metadata": {
        "colab": {
          "base_uri": "https://localhost:8080/"
        },
        "id": "MM6obDMTK9DL",
        "outputId": "3152914e-7139-42b4-8d39-ec7197bc434b"
      },
      "execution_count": null,
      "outputs": [
        {
          "output_type": "execute_result",
          "data": {
            "text/plain": [
              "[10, 20, 30, 20, 40, 60, 30, 60, 90]"
            ]
          },
          "metadata": {},
          "execution_count": 91
        }
      ]
    },
    {
      "cell_type": "code",
      "source": [
        "rows = 5\n",
        "pattern = ''\n",
        "for i in range(1, rows + 1):\n",
        "    row = ''\n",
        "    for j in range(1, i + 1):\n",
        "        row += str(j) + ' '\n",
        "    pattern +=row.strip() + '\\n'\n",
        "print(pattern)"
      ],
      "metadata": {
        "colab": {
          "base_uri": "https://localhost:8080/"
        },
        "id": "uxUGCj3XLIbZ",
        "outputId": "fa514ff0-9b0f-4468-cc21-e9d0f5328f95"
      },
      "execution_count": null,
      "outputs": [
        {
          "output_type": "stream",
          "name": "stdout",
          "text": [
            "1\n",
            "1 2\n",
            "1 2 3\n",
            "1 2 3 4\n",
            "1 2 3 4 5\n",
            "\n"
          ]
        }
      ]
    },
    {
      "cell_type": "code",
      "source": [
        "rows = 5\n",
        "for i in range(1, rows +1):\n",
        "    for j in range(1, i +1):\n",
        "        print(j, end = ' ')\n",
        "    print()"
      ],
      "metadata": {
        "colab": {
          "base_uri": "https://localhost:8080/"
        },
        "id": "hCSAWm1LNf4e",
        "outputId": "cbefa233-e407-463f-8957-77a5385298b1"
      },
      "execution_count": null,
      "outputs": [
        {
          "output_type": "stream",
          "name": "stdout",
          "text": [
            "1 \n",
            "1 2 \n",
            "1 2 3 \n",
            "1 2 3 4 \n",
            "1 2 3 4 5 \n"
          ]
        }
      ]
    },
    {
      "cell_type": "markdown",
      "source": [
        "rows = 5\n",
        "pattern = ''\n",
        "for i in range(1, rows +1):\n",
        "    for j in range(1, i +1):\n",
        "        pattern += j + ' '\n",
        "    print()\n",
        "pattern"
      ],
      "metadata": {
        "id": "1ItP_g8HOqkV"
      }
    },
    {
      "cell_type": "code",
      "source": [
        "pattern = '\\n'.join(' '.join(str(j) for j in range(1,i +1)) for i in range(1, rows + 1))\n",
        "print(pattern)"
      ],
      "metadata": {
        "colab": {
          "base_uri": "https://localhost:8080/"
        },
        "id": "VPsefm_GMC-W",
        "outputId": "45879a99-859e-4d2a-8b48-f2f83d796b0b"
      },
      "execution_count": null,
      "outputs": [
        {
          "output_type": "stream",
          "name": "stdout",
          "text": [
            "1\n",
            "1 2\n",
            "1 2 3\n",
            "1 2 3 4\n",
            "1 2 3 4 5\n"
          ]
        }
      ]
    },
    {
      "cell_type": "code",
      "source": [
        "n"
      ],
      "metadata": {
        "colab": {
          "base_uri": "https://localhost:8080/"
        },
        "id": "xZ7XCo7EMlS-",
        "outputId": "7ba54fa1-15cb-434e-b27f-653e656bc4e8"
      },
      "execution_count": null,
      "outputs": [
        {
          "output_type": "execute_result",
          "data": {
            "text/plain": [
              "[1, 9, 25, 49, 81, 121, 169, 225, 289, 361]"
            ]
          },
          "metadata": {},
          "execution_count": 109
        }
      ]
    },
    {
      "cell_type": "code",
      "source": [
        "t = tuple (n)\n",
        "t"
      ],
      "metadata": {
        "colab": {
          "base_uri": "https://localhost:8080/"
        },
        "id": "l9kR9dj9PySs",
        "outputId": "d93b1eec-b687-47aa-bab4-ce3fdfa064ba"
      },
      "execution_count": null,
      "outputs": [
        {
          "output_type": "execute_result",
          "data": {
            "text/plain": [
              "(1, 9, 25, 49, 81, 121, 169, 225, 289, 361)"
            ]
          },
          "metadata": {},
          "execution_count": 110
        }
      ]
    },
    {
      "cell_type": "code",
      "source": [
        "t * 4"
      ],
      "metadata": {
        "colab": {
          "base_uri": "https://localhost:8080/"
        },
        "id": "FerCX8OvP4dN",
        "outputId": "ab73ef1e-6c99-42c6-a5ba-5281edfee639"
      },
      "execution_count": null,
      "outputs": [
        {
          "output_type": "execute_result",
          "data": {
            "text/plain": [
              "(1,\n",
              " 9,\n",
              " 25,\n",
              " 49,\n",
              " 81,\n",
              " 121,\n",
              " 169,\n",
              " 225,\n",
              " 289,\n",
              " 361,\n",
              " 1,\n",
              " 9,\n",
              " 25,\n",
              " 49,\n",
              " 81,\n",
              " 121,\n",
              " 169,\n",
              " 225,\n",
              " 289,\n",
              " 361,\n",
              " 1,\n",
              " 9,\n",
              " 25,\n",
              " 49,\n",
              " 81,\n",
              " 121,\n",
              " 169,\n",
              " 225,\n",
              " 289,\n",
              " 361,\n",
              " 1,\n",
              " 9,\n",
              " 25,\n",
              " 49,\n",
              " 81,\n",
              " 121,\n",
              " 169,\n",
              " 225,\n",
              " 289,\n",
              " 361)"
            ]
          },
          "metadata": {},
          "execution_count": 111
        }
      ]
    },
    {
      "cell_type": "code",
      "source": [
        "t + t"
      ],
      "metadata": {
        "colab": {
          "base_uri": "https://localhost:8080/"
        },
        "id": "to_og0GHP7Tx",
        "outputId": "4ab88f49-ec33-43f2-954d-91475fcc6f15"
      },
      "execution_count": null,
      "outputs": [
        {
          "output_type": "execute_result",
          "data": {
            "text/plain": [
              "(1,\n",
              " 9,\n",
              " 25,\n",
              " 49,\n",
              " 81,\n",
              " 121,\n",
              " 169,\n",
              " 225,\n",
              " 289,\n",
              " 361,\n",
              " 1,\n",
              " 9,\n",
              " 25,\n",
              " 49,\n",
              " 81,\n",
              " 121,\n",
              " 169,\n",
              " 225,\n",
              " 289,\n",
              " 361)"
            ]
          },
          "metadata": {},
          "execution_count": 112
        }
      ]
    },
    {
      "cell_type": "code",
      "source": [
        "80 in t"
      ],
      "metadata": {
        "colab": {
          "base_uri": "https://localhost:8080/"
        },
        "id": "iHEiezU6P_mu",
        "outputId": "96cca3c7-457d-46da-cd03-fa6136dafa69"
      },
      "execution_count": null,
      "outputs": [
        {
          "output_type": "execute_result",
          "data": {
            "text/plain": [
              "False"
            ]
          },
          "metadata": {},
          "execution_count": 113
        }
      ]
    },
    {
      "cell_type": "code",
      "source": [
        "81 in t"
      ],
      "metadata": {
        "colab": {
          "base_uri": "https://localhost:8080/"
        },
        "id": "PmvuNeZXQDbl",
        "outputId": "8d13616d-b264-42af-80c2-67e2eca2831e"
      },
      "execution_count": null,
      "outputs": [
        {
          "output_type": "execute_result",
          "data": {
            "text/plain": [
              "True"
            ]
          },
          "metadata": {},
          "execution_count": 114
        }
      ]
    },
    {
      "cell_type": "code",
      "source": [
        "for i in t:\n",
        "    print(i)"
      ],
      "metadata": {
        "colab": {
          "base_uri": "https://localhost:8080/"
        },
        "id": "JqZReRvRQE6X",
        "outputId": "03693d0c-2a43-42dd-bec1-c70bc0890eab"
      },
      "execution_count": null,
      "outputs": [
        {
          "output_type": "stream",
          "name": "stdout",
          "text": [
            "1\n",
            "9\n",
            "25\n",
            "49\n",
            "81\n",
            "121\n",
            "169\n",
            "225\n",
            "289\n",
            "361\n"
          ]
        }
      ]
    },
    {
      "cell_type": "code",
      "source": [
        "t.remove(1)"
      ],
      "metadata": {
        "colab": {
          "base_uri": "https://localhost:8080/",
          "height": 179
        },
        "id": "HhhIz5kIQIL0",
        "outputId": "054f3eed-0de3-4d8f-9ffc-852638aa67e4"
      },
      "execution_count": null,
      "outputs": [
        {
          "output_type": "error",
          "ename": "AttributeError",
          "evalue": "ignored",
          "traceback": [
            "\u001b[0;31m---------------------------------------------------------------------------\u001b[0m",
            "\u001b[0;31mAttributeError\u001b[0m                            Traceback (most recent call last)",
            "\u001b[0;32m<ipython-input-116-9ef1b67eb073>\u001b[0m in \u001b[0;36m<cell line: 1>\u001b[0;34m()\u001b[0m\n\u001b[0;32m----> 1\u001b[0;31m \u001b[0mt\u001b[0m\u001b[0;34m.\u001b[0m\u001b[0mremove\u001b[0m\u001b[0;34m(\u001b[0m\u001b[0;36m1\u001b[0m\u001b[0;34m)\u001b[0m\u001b[0;34m\u001b[0m\u001b[0;34m\u001b[0m\u001b[0m\n\u001b[0m",
            "\u001b[0;31mAttributeError\u001b[0m: 'tuple' object has no attribute 'remove'"
          ]
        }
      ]
    },
    {
      "cell_type": "code",
      "source": [
        "t.clear()"
      ],
      "metadata": {
        "colab": {
          "base_uri": "https://localhost:8080/",
          "height": 179
        },
        "id": "2XfQ5V_6QNdM",
        "outputId": "0b4f1663-8437-49e7-c71f-e2f5f131fccc"
      },
      "execution_count": null,
      "outputs": [
        {
          "output_type": "error",
          "ename": "AttributeError",
          "evalue": "ignored",
          "traceback": [
            "\u001b[0;31m---------------------------------------------------------------------------\u001b[0m",
            "\u001b[0;31mAttributeError\u001b[0m                            Traceback (most recent call last)",
            "\u001b[0;32m<ipython-input-117-b5c138cd64ad>\u001b[0m in \u001b[0;36m<cell line: 1>\u001b[0;34m()\u001b[0m\n\u001b[0;32m----> 1\u001b[0;31m \u001b[0mt\u001b[0m\u001b[0;34m.\u001b[0m\u001b[0mclear\u001b[0m\u001b[0;34m(\u001b[0m\u001b[0;34m)\u001b[0m\u001b[0;34m\u001b[0m\u001b[0;34m\u001b[0m\u001b[0m\n\u001b[0m",
            "\u001b[0;31mAttributeError\u001b[0m: 'tuple' object has no attribute 'clear'"
          ]
        }
      ]
    },
    {
      "cell_type": "code",
      "source": [
        "t.pop(0)"
      ],
      "metadata": {
        "colab": {
          "base_uri": "https://localhost:8080/",
          "height": 179
        },
        "id": "G6kXLGf2QPmB",
        "outputId": "9742190f-81d9-481f-db66-7ee239124230"
      },
      "execution_count": null,
      "outputs": [
        {
          "output_type": "error",
          "ename": "AttributeError",
          "evalue": "ignored",
          "traceback": [
            "\u001b[0;31m---------------------------------------------------------------------------\u001b[0m",
            "\u001b[0;31mAttributeError\u001b[0m                            Traceback (most recent call last)",
            "\u001b[0;32m<ipython-input-118-70073c464b4b>\u001b[0m in \u001b[0;36m<cell line: 1>\u001b[0;34m()\u001b[0m\n\u001b[0;32m----> 1\u001b[0;31m \u001b[0mt\u001b[0m\u001b[0;34m.\u001b[0m\u001b[0mpop\u001b[0m\u001b[0;34m(\u001b[0m\u001b[0;36m0\u001b[0m\u001b[0;34m)\u001b[0m\u001b[0;34m\u001b[0m\u001b[0;34m\u001b[0m\u001b[0m\n\u001b[0m",
            "\u001b[0;31mAttributeError\u001b[0m: 'tuple' object has no attribute 'pop'"
          ]
        }
      ]
    },
    {
      "cell_type": "code",
      "source": [
        "num, greet, pi, b = (1, 'hello', 3.14, True)"
      ],
      "metadata": {
        "id": "1-slWIAlQSIw"
      },
      "execution_count": null,
      "outputs": []
    },
    {
      "cell_type": "code",
      "source": [
        "num"
      ],
      "metadata": {
        "colab": {
          "base_uri": "https://localhost:8080/"
        },
        "id": "Bui58BpGQfcV",
        "outputId": "7d6ee911-19a0-4428-b8d8-f8a9af24f49d"
      },
      "execution_count": null,
      "outputs": [
        {
          "output_type": "execute_result",
          "data": {
            "text/plain": [
              "1"
            ]
          },
          "metadata": {},
          "execution_count": 121
        }
      ]
    },
    {
      "cell_type": "code",
      "source": [
        "b"
      ],
      "metadata": {
        "colab": {
          "base_uri": "https://localhost:8080/"
        },
        "id": "gW9L67JMQpog",
        "outputId": "79f0a26b-4afd-4cf2-b72e-65765704c2c6"
      },
      "execution_count": null,
      "outputs": [
        {
          "output_type": "execute_result",
          "data": {
            "text/plain": [
              "True"
            ]
          },
          "metadata": {},
          "execution_count": 122
        }
      ]
    },
    {
      "cell_type": "code",
      "source": [
        "sorted(t)"
      ],
      "metadata": {
        "colab": {
          "base_uri": "https://localhost:8080/"
        },
        "id": "F9CNybPlQrXo",
        "outputId": "43107605-d971-443c-9f33-f39de5bd633b"
      },
      "execution_count": null,
      "outputs": [
        {
          "output_type": "execute_result",
          "data": {
            "text/plain": [
              "[1, 9, 25, 49, 81, 121, 169, 225, 289, 361]"
            ]
          },
          "metadata": {},
          "execution_count": 123
        }
      ]
    },
    {
      "cell_type": "code",
      "source": [
        "list1.sort()"
      ],
      "metadata": {
        "id": "NFI4uFEKQ2PJ"
      },
      "execution_count": null,
      "outputs": []
    },
    {
      "cell_type": "code",
      "source": [
        "list1"
      ],
      "metadata": {
        "colab": {
          "base_uri": "https://localhost:8080/"
        },
        "id": "lzeBvNUVQ5Fq",
        "outputId": "0525399e-5174-4177-8a73-3e4d85fae91e"
      },
      "execution_count": null,
      "outputs": [
        {
          "output_type": "execute_result",
          "data": {
            "text/plain": [
              "[1, 2, 3]"
            ]
          },
          "metadata": {},
          "execution_count": 125
        }
      ]
    },
    {
      "cell_type": "code",
      "source": [
        "t[0]"
      ],
      "metadata": {
        "colab": {
          "base_uri": "https://localhost:8080/"
        },
        "id": "GB1UBQ4bQ6QB",
        "outputId": "b4258b56-452e-4345-8186-d37e8f4c0fc7"
      },
      "execution_count": null,
      "outputs": [
        {
          "output_type": "execute_result",
          "data": {
            "text/plain": [
              "1"
            ]
          },
          "metadata": {},
          "execution_count": 126
        }
      ]
    },
    {
      "cell_type": "code",
      "source": [
        "t[1]"
      ],
      "metadata": {
        "colab": {
          "base_uri": "https://localhost:8080/"
        },
        "id": "i5sD-1oYRAqB",
        "outputId": "f713ad20-78ca-40ec-edb1-320cd674109b"
      },
      "execution_count": null,
      "outputs": [
        {
          "output_type": "execute_result",
          "data": {
            "text/plain": [
              "9"
            ]
          },
          "metadata": {},
          "execution_count": 127
        }
      ]
    },
    {
      "cell_type": "code",
      "source": [
        "for i in range(len(t)):\n",
        "    print(t[i])"
      ],
      "metadata": {
        "colab": {
          "base_uri": "https://localhost:8080/"
        },
        "id": "EYfq44W6RCUO",
        "outputId": "6e01482e-2fb2-4e3b-a5c0-2bc31d68bab0"
      },
      "execution_count": null,
      "outputs": [
        {
          "output_type": "stream",
          "name": "stdout",
          "text": [
            "1\n",
            "9\n",
            "25\n",
            "49\n",
            "81\n",
            "121\n",
            "169\n",
            "225\n",
            "289\n",
            "361\n"
          ]
        }
      ]
    },
    {
      "cell_type": "code",
      "source": [
        "vowels_tuple = ('a','e','i','o','s','u')\n",
        "vowels_tuple.index('s')"
      ],
      "metadata": {
        "colab": {
          "base_uri": "https://localhost:8080/"
        },
        "id": "zk63t0PvRL-V",
        "outputId": "5a3a5be2-65ab-4b67-9002-c1a2cd5ff920"
      },
      "execution_count": null,
      "outputs": [
        {
          "output_type": "execute_result",
          "data": {
            "text/plain": [
              "4"
            ]
          },
          "metadata": {},
          "execution_count": 129
        }
      ]
    },
    {
      "cell_type": "code",
      "source": [
        "vowels_tuple[4] = '0'"
      ],
      "metadata": {
        "colab": {
          "base_uri": "https://localhost:8080/",
          "height": 179
        },
        "id": "YVY1H63sRoTo",
        "outputId": "3f906161-c077-4ce7-9d4e-f8d8999c464a"
      },
      "execution_count": null,
      "outputs": [
        {
          "output_type": "error",
          "ename": "TypeError",
          "evalue": "ignored",
          "traceback": [
            "\u001b[0;31m---------------------------------------------------------------------------\u001b[0m",
            "\u001b[0;31mTypeError\u001b[0m                                 Traceback (most recent call last)",
            "\u001b[0;32m<ipython-input-130-f6e9469b5c07>\u001b[0m in \u001b[0;36m<cell line: 1>\u001b[0;34m()\u001b[0m\n\u001b[0;32m----> 1\u001b[0;31m \u001b[0mvowels_tuple\u001b[0m\u001b[0;34m[\u001b[0m\u001b[0;36m4\u001b[0m\u001b[0;34m]\u001b[0m \u001b[0;34m=\u001b[0m \u001b[0;34m'0'\u001b[0m\u001b[0;34m\u001b[0m\u001b[0;34m\u001b[0m\u001b[0m\n\u001b[0m",
            "\u001b[0;31mTypeError\u001b[0m: 'tuple' object does not support item assignment"
          ]
        }
      ]
    },
    {
      "cell_type": "code",
      "source": [
        "vowel_list = list(vowels_tuple)\n",
        "vowel_list.remove('s')\n",
        "vowel_tuple = tuple(vowel_list)\n",
        "vowel_tuple"
      ],
      "metadata": {
        "colab": {
          "base_uri": "https://localhost:8080/"
        },
        "id": "c57zDwaxRsOG",
        "outputId": "41f5ef1d-c46c-44a4-cae8-0ff548fc32bd"
      },
      "execution_count": null,
      "outputs": [
        {
          "output_type": "execute_result",
          "data": {
            "text/plain": [
              "('a', 'e', 'i', 'o', 'u')"
            ]
          },
          "metadata": {},
          "execution_count": 133
        }
      ]
    },
    {
      "cell_type": "code",
      "source": [
        "t[3:7]"
      ],
      "metadata": {
        "colab": {
          "base_uri": "https://localhost:8080/"
        },
        "id": "7ZIvR7kzRxJ7",
        "outputId": "1b222c99-6bf8-49c9-b35f-b5edf68309a4"
      },
      "execution_count": null,
      "outputs": [
        {
          "output_type": "execute_result",
          "data": {
            "text/plain": [
              "(49, 81, 121, 169)"
            ]
          },
          "metadata": {},
          "execution_count": 135
        }
      ]
    },
    {
      "cell_type": "code",
      "source": [
        "t[::-1]"
      ],
      "metadata": {
        "colab": {
          "base_uri": "https://localhost:8080/"
        },
        "id": "CucXn0GhSSb0",
        "outputId": "1fb40027-19e0-405b-82c8-0dd29029e8ed"
      },
      "execution_count": null,
      "outputs": [
        {
          "output_type": "execute_result",
          "data": {
            "text/plain": [
              "(361, 289, 225, 169, 121, 81, 49, 25, 9, 1)"
            ]
          },
          "metadata": {},
          "execution_count": 136
        }
      ]
    },
    {
      "cell_type": "markdown",
      "source": [
        "Write a Python program to unzip a list of tuples into individual lists"
      ],
      "metadata": {
        "id": "xmkPZgFUSaZA"
      }
    },
    {
      "cell_type": "code",
      "source": [
        "list_of_tuples = [(1, 'a'), (2, 'b'), (3, 'c')]\n",
        "list(zip(*list_of_tuples))"
      ],
      "metadata": {
        "colab": {
          "base_uri": "https://localhost:8080/"
        },
        "id": "oy0B_GFgSWhq",
        "outputId": "1a5fe9e2-8950-4a17-eb4e-cd091b5ba493"
      },
      "execution_count": null,
      "outputs": [
        {
          "output_type": "execute_result",
          "data": {
            "text/plain": [
              "[(1, 2, 3), ('a', 'b', 'c')]"
            ]
          },
          "metadata": {},
          "execution_count": 138
        }
      ]
    },
    {
      "cell_type": "code",
      "source": [
        "for i in list(zip(*list_of_tuples)):\n",
        "    print(list(i))"
      ],
      "metadata": {
        "colab": {
          "base_uri": "https://localhost:8080/"
        },
        "id": "oZs4GH8UStUm",
        "outputId": "a9e5bcd2-7978-4c75-9ce3-cdf84fae9502"
      },
      "execution_count": null,
      "outputs": [
        {
          "output_type": "stream",
          "name": "stdout",
          "text": [
            "[1, 2, 3]\n",
            "['a', 'b', 'c']\n"
          ]
        }
      ]
    },
    {
      "cell_type": "markdown",
      "source": [
        "Find the common elements between two tuples."
      ],
      "metadata": {
        "id": "srumMfYXTJLe"
      }
    },
    {
      "cell_type": "code",
      "source": [
        "tup1 = (1, 2, 3, 4)\n",
        "tup2 = (3, 4, 5, 6)\n",
        "\n",
        "for i in tup1:\n",
        "    if i in tup2:\n",
        "        print(i)"
      ],
      "metadata": {
        "colab": {
          "base_uri": "https://localhost:8080/"
        },
        "id": "raro944iS3tN",
        "outputId": "e56bfd04-7c66-485a-a8f1-f49165102bab"
      },
      "execution_count": null,
      "outputs": [
        {
          "output_type": "stream",
          "name": "stdout",
          "text": [
            "3\n",
            "4\n"
          ]
        }
      ]
    },
    {
      "cell_type": "code",
      "source": [],
      "metadata": {
        "id": "0g_N3t_xTOZc"
      },
      "execution_count": null,
      "outputs": []
    }
  ]
}